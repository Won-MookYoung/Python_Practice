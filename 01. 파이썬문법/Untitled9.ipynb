{
 "cells": [
  {
   "cell_type": "code",
   "execution_count": 21,
   "id": "aeda5336",
   "metadata": {},
   "outputs": [],
   "source": [
    "class JSS:\n",
    "    def __init__(self):               # 클래스를 선언하면 자동 실행\n",
    "        \n",
    "        self.name = input('이름 : ')\n",
    "        self.age = input('나이 : ')\n",
    "    def show(self):\n",
    "        print('나의 이름은 {}, 나이는 {}입니다.'.format(self.name,self.age))\n",
    "    "
   ]
  },
  {
   "cell_type": "code",
   "execution_count": 22,
   "id": "b73815f3",
   "metadata": {},
   "outputs": [
    {
     "name": "stdout",
     "output_type": "stream",
     "text": [
      "이름 : 원묵영\n",
      "나이 : 32\n"
     ]
    }
   ],
   "source": [
    "a= JSS()   ## __init__ 안의 내용이 자동실행"
   ]
  },
  {
   "cell_type": "code",
   "execution_count": 23,
   "id": "d4a16119",
   "metadata": {
    "scrolled": true
   },
   "outputs": [
    {
     "data": {
      "text/plain": [
       "'원묵영'"
      ]
     },
     "execution_count": 23,
     "metadata": {},
     "output_type": "execute_result"
    }
   ],
   "source": [
    "a.name"
   ]
  },
  {
   "cell_type": "code",
   "execution_count": 24,
   "id": "82b0e879",
   "metadata": {},
   "outputs": [
    {
     "data": {
      "text/plain": [
       "'32'"
      ]
     },
     "execution_count": 24,
     "metadata": {},
     "output_type": "execute_result"
    }
   ],
   "source": [
    "a.age"
   ]
  },
  {
   "cell_type": "code",
   "execution_count": 25,
   "id": "c1477132",
   "metadata": {},
   "outputs": [
    {
     "name": "stdout",
     "output_type": "stream",
     "text": [
      "나의 이름은 원묵영, 나이는 32입니다.\n"
     ]
    }
   ],
   "source": [
    "a.show()"
   ]
  },
  {
   "cell_type": "code",
   "execution_count": null,
   "id": "df5aedec",
   "metadata": {},
   "outputs": [],
   "source": [
    "# JSS( 자소서) 클래스에 이름과 나이를 적고보니 성별도 추가해야될거같다\n",
    "# 그래서 양식을 업데이트 해야하는데\n",
    "# 원본은 그대로 두고 새로운 버전을 만드는게 좋을듯하다\n",
    "# JSS -> JSS2 ## 상속이라고함\n"
   ]
  },
  {
   "cell_type": "code",
   "execution_count": 17,
   "id": "4bd7aad3",
   "metadata": {},
   "outputs": [],
   "source": [
    "# 상속\n",
    "class JSS2(JSS):      # 처음 클래스에서는 괄호가 없지만 상속할 클래스명을 적어줌\n",
    "    def __init__(self):         #init함수를 그대로 쓰면 따로 선언을 안해도되지만 성별에 해당하는 젠더가 추가되기때문에 선언해준다\n",
    "        pass                        #이렇게 선언하는 순간 JSS 클래스에있던 init은 사라지고 덮어쓰게됨\n",
    "                                #기존의 내용을 쓰고싶다면 def super().__init__() 이라고 쓰면됨\n",
    "                                #여기서 super는 JSS를 의미함 그렇기때문에 super __init__은 JSS의 __init__을 전부 들고오는것과같음"
   ]
  },
  {
   "cell_type": "code",
   "execution_count": 18,
   "id": "82914af8",
   "metadata": {},
   "outputs": [],
   "source": [
    "a=JSS2()     #pass를 했기때문에 아무것도 뜨지않음"
   ]
  },
  {
   "cell_type": "code",
   "execution_count": 29,
   "id": "e2ae725e",
   "metadata": {},
   "outputs": [],
   "source": [
    "class JSS2(JSS):      \n",
    "    def __init__(self):         \n",
    "        super().__init__()     #JSS의 init을 그대로 들고옴\n",
    "        self.gender = input('성별 : ')      #추가할 거\n",
    "    def show(self):\n",
    "        print('나의 이름은 {}이고 성별은 {} 입니다. 나이는 {}입니다.'.format(self.name,self.gender,self.age))"
   ]
  },
  {
   "cell_type": "code",
   "execution_count": 30,
   "id": "b21202db",
   "metadata": {},
   "outputs": [
    {
     "name": "stdout",
     "output_type": "stream",
     "text": [
      "이름 : 원묵영\n",
      "나이 : 32\n",
      "성별 : 남\n"
     ]
    }
   ],
   "source": [
    "a=JSS2()"
   ]
  },
  {
   "cell_type": "code",
   "execution_count": 31,
   "id": "9d1db32e",
   "metadata": {},
   "outputs": [
    {
     "name": "stdout",
     "output_type": "stream",
     "text": [
      "나의 이름은 원묵영이고 성별은 남 입니다. 나이는 32입니다.\n"
     ]
    }
   ],
   "source": [
    "a.show()           #상속받았으니 JSS2에 따로 지정안해줘도 나옴\n",
    "                   #성별도 추가하고 싶으면 아예 들고와서 바꿔줌"
   ]
  },
  {
   "cell_type": "code",
   "execution_count": null,
   "id": "8d315733",
   "metadata": {},
   "outputs": [],
   "source": []
  },
  {
   "cell_type": "code",
   "execution_count": null,
   "id": "8a7060a1",
   "metadata": {},
   "outputs": [],
   "source": []
  },
  {
   "cell_type": "code",
   "execution_count": null,
   "id": "f6fd9f33",
   "metadata": {},
   "outputs": [],
   "source": []
  },
  {
   "cell_type": "code",
   "execution_count": null,
   "id": "02e06a61",
   "metadata": {},
   "outputs": [],
   "source": []
  },
  {
   "cell_type": "code",
   "execution_count": null,
   "id": "3eda99fd",
   "metadata": {},
   "outputs": [],
   "source": [
    "# 상속2\n",
    "# 아예 똑같은걸 만들고 싶다면 \n",
    "# class JSS2(JSS):\n",
    "#    pass  \n",
    "#라고 쓰고 공란으로 남겨두면됨\n",
    "#a=JSS2() 실행하면 JSS와 마찬가지로 init함수가 실행됨"
   ]
  },
  {
   "cell_type": "code",
   "execution_count": null,
   "id": "6ced1d26",
   "metadata": {},
   "outputs": [],
   "source": []
  },
  {
   "cell_type": "code",
   "execution_count": null,
   "id": "e583da23",
   "metadata": {},
   "outputs": [],
   "source": []
  },
  {
   "cell_type": "code",
   "execution_count": null,
   "id": "3585bee0",
   "metadata": {},
   "outputs": [],
   "source": []
  },
  {
   "cell_type": "code",
   "execution_count": null,
   "id": "ea3f825a",
   "metadata": {},
   "outputs": [],
   "source": []
  },
  {
   "cell_type": "code",
   "execution_count": null,
   "id": "c45517e5",
   "metadata": {},
   "outputs": [],
   "source": [
    "'''a= JSS()     a라는 변수에 클래스JSS를 할당하고 (선언하고)\n",
    "a.name          저장    #a는 self에 해당\n",
    "a.age           저장\n",
    "a.show()        a.show라는 함수를 통해서 저장된 네임과 에이지의 정보를 출력하겠다\n",
    "\n",
    "\n",
    "\n",
    "'''"
   ]
  },
  {
   "cell_type": "code",
   "execution_count": null,
   "id": "828174c5",
   "metadata": {},
   "outputs": [],
   "source": []
  },
  {
   "cell_type": "code",
   "execution_count": null,
   "id": "c767e234",
   "metadata": {},
   "outputs": [],
   "source": []
  },
  {
   "cell_type": "code",
   "execution_count": null,
   "id": "ed22be93",
   "metadata": {},
   "outputs": [],
   "source": []
  },
  {
   "cell_type": "code",
   "execution_count": null,
   "id": "17285248",
   "metadata": {},
   "outputs": [],
   "source": []
  },
  {
   "cell_type": "code",
   "execution_count": 53,
   "id": "1185ad39",
   "metadata": {},
   "outputs": [],
   "source": [
    "class Pocketmon:\n",
    "    def __init__(self,name,attack):\n",
    "        self.name=name\n",
    "        self.attack=attack\n",
    "        \n",
    "    def intro(self):\n",
    "        print('가라!! {} !! {} 공격!!'.format(self.name,self.attack))\n",
    "        print('hp가 100 상승되었습니다.')\n",
    "    \n",
    "    def defence(self):\n",
    "        print('방어에 성공하셨습니다.')\n",
    "        defen=input('특수방어 or 물리방어')\n",
    "        \n",
    "    def soso(self):\n",
    "        if defen=='특수방어':\n",
    "            print('특수방어가 10 올라갑니다.')\n",
    "        else:\n",
    "            print('물리방어가 10 올라갑니다.')"
   ]
  },
  {
   "cell_type": "code",
   "execution_count": 54,
   "id": "04b1cf5f",
   "metadata": {},
   "outputs": [],
   "source": [
    "pikachu=Pocketmon('피카츄','100만볼트')"
   ]
  },
  {
   "cell_type": "code",
   "execution_count": 55,
   "id": "ad76de50",
   "metadata": {},
   "outputs": [
    {
     "name": "stdout",
     "output_type": "stream",
     "text": [
      "가라!! 피카츄 !! 100만볼트 공격!!\n",
      "hp가 100 상승되었습니다.\n"
     ]
    }
   ],
   "source": [
    "pikachu.intro()"
   ]
  },
  {
   "cell_type": "code",
   "execution_count": 56,
   "id": "eab63fb5",
   "metadata": {},
   "outputs": [
    {
     "name": "stdout",
     "output_type": "stream",
     "text": [
      "방어에 성공하셨습니다.\n",
      "특수방어 or 물리방어특수방어\n"
     ]
    }
   ],
   "source": [
    "pikachu.defence()"
   ]
  },
  {
   "cell_type": "code",
   "execution_count": 57,
   "id": "4e9d9d0e",
   "metadata": {},
   "outputs": [
    {
     "ename": "NameError",
     "evalue": "name 'defen' is not defined",
     "output_type": "error",
     "traceback": [
      "\u001b[1;31m---------------------------------------------------------------------------\u001b[0m",
      "\u001b[1;31mNameError\u001b[0m                                 Traceback (most recent call last)",
      "Input \u001b[1;32mIn [57]\u001b[0m, in \u001b[0;36m<cell line: 1>\u001b[1;34m()\u001b[0m\n\u001b[1;32m----> 1\u001b[0m \u001b[43mpikachu\u001b[49m\u001b[38;5;241;43m.\u001b[39;49m\u001b[43msoso\u001b[49m\u001b[43m(\u001b[49m\u001b[43m)\u001b[49m\n",
      "Input \u001b[1;32mIn [53]\u001b[0m, in \u001b[0;36mPocketmon.soso\u001b[1;34m(self)\u001b[0m\n\u001b[0;32m     14\u001b[0m \u001b[38;5;28;01mdef\u001b[39;00m \u001b[38;5;21msoso\u001b[39m(\u001b[38;5;28mself\u001b[39m):\n\u001b[1;32m---> 15\u001b[0m     \u001b[38;5;28;01mif\u001b[39;00m \u001b[43mdefen\u001b[49m\u001b[38;5;241m==\u001b[39m\u001b[38;5;124m'\u001b[39m\u001b[38;5;124m특수방어\u001b[39m\u001b[38;5;124m'\u001b[39m:\n\u001b[0;32m     16\u001b[0m         \u001b[38;5;28mprint\u001b[39m(\u001b[38;5;124m'\u001b[39m\u001b[38;5;124m특수방어가 10 올라갑니다.\u001b[39m\u001b[38;5;124m'\u001b[39m)\n\u001b[0;32m     17\u001b[0m     \u001b[38;5;28;01melse\u001b[39;00m:\n",
      "\u001b[1;31mNameError\u001b[0m: name 'defen' is not defined"
     ]
    }
   ],
   "source": [
    "pikachu.soso()"
   ]
  },
  {
   "cell_type": "code",
   "execution_count": null,
   "id": "a437f4b0",
   "metadata": {},
   "outputs": [],
   "source": []
  },
  {
   "cell_type": "code",
   "execution_count": null,
   "id": "dc5e209e",
   "metadata": {},
   "outputs": [],
   "source": []
  },
  {
   "cell_type": "code",
   "execution_count": 46,
   "id": "bebec277",
   "metadata": {},
   "outputs": [],
   "source": [
    "class Monster:                        #클래스\n",
    "    def __init__(self,name,hp):       #생성자 #생성자에서 속성을 부여\n",
    "        self.name=name         #객체 자기자신의 네임은    \n",
    "        self.hp=hp         #속성추가\n",
    "    def say(self): \n",
    "        print(f'나는 {self.name} 체력이{self.hp}이지')\n",
    "    def hp_upgrade(self, plus):\n",
    "        self.hp += plus\n",
    "    def skill(self,skill_name):    #무조건 셀프가 처음에 들어가야함\n",
    "        print(skill_name, '공격!')"
   ]
  },
  {
   "cell_type": "code",
   "execution_count": 47,
   "id": "a06a7579",
   "metadata": {},
   "outputs": [],
   "source": [
    "digda = Monster('digda',300)"
   ]
  },
  {
   "cell_type": "code",
   "execution_count": null,
   "id": "06b2187e",
   "metadata": {},
   "outputs": [],
   "source": []
  },
  {
   "cell_type": "code",
   "execution_count": null,
   "id": "647ea98b",
   "metadata": {},
   "outputs": [],
   "source": []
  }
 ],
 "metadata": {
  "kernelspec": {
   "display_name": "Python 3 (ipykernel)",
   "language": "python",
   "name": "python3"
  },
  "language_info": {
   "codemirror_mode": {
    "name": "ipython",
    "version": 3
   },
   "file_extension": ".py",
   "mimetype": "text/x-python",
   "name": "python",
   "nbconvert_exporter": "python",
   "pygments_lexer": "ipython3",
   "version": "3.9.12"
  },
  "toc": {
   "base_numbering": 1,
   "nav_menu": {},
   "number_sections": true,
   "sideBar": true,
   "skip_h1_title": false,
   "title_cell": "Table of Contents",
   "title_sidebar": "Contents",
   "toc_cell": false,
   "toc_position": {},
   "toc_section_display": true,
   "toc_window_display": false
  }
 },
 "nbformat": 4,
 "nbformat_minor": 5
}
